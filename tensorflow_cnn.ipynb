{
  "nbformat": 4,
  "nbformat_minor": 0,
  "metadata": {
    "colab": {
      "name": "인공지능_실습4_1871006.ipynb",
      "provenance": [],
      "collapsed_sections": [],
      "include_colab_link": true
    },
    "kernelspec": {
      "name": "python3",
      "display_name": "Python 3"
    },
    "language_info": {
      "name": "python"
    },
    "accelerator": "GPU"
  },
  "cells": [
    {
      "cell_type": "markdown",
      "metadata": {
        "id": "view-in-github",
        "colab_type": "text"
      },
      "source": [
        "<a href=\"https://colab.research.google.com/github/mallang7/DeepLearning_basic/blob/master/tensorflow_cnn.ipynb\" target=\"_parent\"><img src=\"https://colab.research.google.com/assets/colab-badge.svg\" alt=\"Open In Colab\"/></a>"
      ]
    },
    {
      "cell_type": "code",
      "metadata": {
        "id": "DmrUeEaGbUEB"
      },
      "source": [
        "import tensorflow as tf\n",
        "from tensorflow.keras import Model, layers\n",
        "import numpy as np\n",
        "import time\n",
        "\n",
        "start = time.time()\n",
        "\n",
        "num_classes = 10\n",
        "\n",
        "learning_rate = 0.0001\n",
        "batch_size = 100\n",
        "num_epochs = 30\n",
        "# num_epochs = 5"
      ],
      "execution_count": 57,
      "outputs": []
    },
    {
      "cell_type": "code",
      "metadata": {
        "id": "9H_x7s4FhjLR"
      },
      "source": [
        "from tensorflow.keras.datasets import mnist\n",
        "(x_train, y_train), (x_test, y_test) = mnist.load_data()\n",
        "x_train, x_test = np.array(x_train, np.float32), np.array(x_test, np.float32)\n",
        "x_train, x_test = x_train / 255., x_test / 255.\n",
        "\n",
        "train_data = tf.data.Dataset.from_tensor_slices((x_train, y_train))\n",
        "train_data = train_data.repeat(num_epochs).shuffle(60000).batch(batch_size).prefetch(batch_size)"
      ],
      "execution_count": 58,
      "outputs": []
    },
    {
      "cell_type": "code",
      "metadata": {
        "id": "5l0pCLmMhqnG"
      },
      "source": [
        "class ConvNet(Model):\n",
        "    def __init__(self):\n",
        "        super(ConvNet, self).__init__()\n",
        "        self.conv1 = layers.Conv2D(32, kernel_size=3, padding='same')\n",
        "        self.batch1 = layers.BatchNormalization()\n",
        "        self.act1 = layers.ReLU()\n",
        "        self.maxpool1 = layers.MaxPool2D(2, strides=2)\n",
        "\n",
        "        self.conv2 = layers.Conv2D(32, kernel_size=3, padding='same')\n",
        "        self.batch2 = layers.BatchNormalization()\n",
        "        self.act2 = layers.ReLU()\n",
        "        self.maxpool2 = layers.MaxPool2D(2, strides=2)\n",
        "\n",
        "        self.conv3 = layers.Conv2D(32, kernel_size=3, padding='same')\n",
        "        self.batch3 = layers.BatchNormalization()\n",
        "        self.act3 = layers.ReLU()\n",
        "        self.maxpool3 = layers.MaxPool2D(2, strides=2)\n",
        "\n",
        "        self.conv4 = layers.Conv2D(32, kernel_size=3, padding='same')\n",
        "        self.batch4 = layers.BatchNormalization()\n",
        "        self.act4 = layers.ReLU()\n",
        "        self.maxpool4 = layers.MaxPool2D(2, strides=2)\n",
        "\n",
        "        self.flatten = layers.Flatten()\n",
        "\n",
        "        self.fc1 = layers.Dense(1000, activation='relu')\n",
        "        self.fc2 = layers.Dense(512, activation='relu')\n",
        "\n",
        "        self.dropout = layers.Dropout(rate=0.5)\n",
        "\n",
        "        self.out= layers.Dense(num_classes)\n",
        "\n",
        "    def call(self, x, is_training=False):\n",
        "\n",
        "        x = tf.reshape(x, [-1, 28, 28, 1])\n",
        "        #1\n",
        "        x = self.conv1(x)\n",
        "        x = self.batch1(x, training=is_training)\n",
        "        x = self.act1(x)\n",
        "        x = self.conv2(x)\n",
        "        x = self.batch2(x, training=is_training)\n",
        "        x = self.act2(x)\n",
        "        x = self.maxpool1(x)\n",
        "\n",
        "        #2\n",
        "        x = self.conv2(x)\n",
        "        x = self.batch2(x, training=is_training)\n",
        "        x = self.act2(x)\n",
        "        x = self.conv2(x)\n",
        "        x = self.batch2(x, training=is_training)\n",
        "        x = self.act2(x)\n",
        "        x = self.maxpool2(x)\n",
        "\n",
        "        #3\n",
        "        x = self.conv3(x)\n",
        "        x = self.batch3(x, training=is_training)\n",
        "        x = self.act3(x)\n",
        "        x = self.conv3(x)\n",
        "        x = self.batch3(x, training=is_training)\n",
        "        x = self.act3(x)\n",
        "        x = self.conv3(x)\n",
        "        x = self.batch3(x, training=is_training)\n",
        "        x = self.act3(x)\n",
        "        x = self.maxpool3(x)\n",
        "\n",
        "        #4\n",
        "        x = self.conv4(x)\n",
        "        x = self.batch4(x, training=is_training)\n",
        "        x = self.act4(x)\n",
        "        x = self.conv4(x)\n",
        "        x = self.batch4(x, training=is_training)\n",
        "        x = self.act4(x)\n",
        "        x = self.conv4(x)\n",
        "        x = self.batch4(x, training=is_training)\n",
        "        x = self.act4(x)\n",
        "        x = self.maxpool4(x)\n",
        "\n",
        "        x = self.flatten(x)\n",
        "        x = self.fc1(x)\n",
        "        # x = self.fc2(x)\n",
        "        x = self.fc2(x)\n",
        "        x = self.dropout(x, training=is_training)\n",
        "        x = self.out(x)\n",
        "        if not is_training:\n",
        "            x = tf.nn.softmax(x)\n",
        "        return x\n",
        "\n",
        "conv_net = ConvNet()"
      ],
      "execution_count": 59,
      "outputs": []
    },
    {
      "cell_type": "code",
      "metadata": {
        "id": "JK6nwtUPhyc9"
      },
      "source": [
        "def cross_entropy_loss(x, y):\n",
        "    y = tf.cast(y, tf.int64)\n",
        "    loss = tf.nn.sparse_softmax_cross_entropy_with_logits(labels=y, logits=x)\n",
        "    return tf.reduce_mean(loss)\n",
        "\n",
        "def accuracy(y_pred, y_true):\n",
        "    correct_prediction = tf.equal(tf.argmax(y_pred, 1), tf.cast(y_true, tf.int64))\n",
        "    return tf.reduce_mean(tf.cast(correct_prediction, tf.float32), axis=-1)\n",
        "\n",
        "optimizer = tf.optimizers.Adam(learning_rate)"
      ],
      "execution_count": 60,
      "outputs": []
    },
    {
      "cell_type": "code",
      "metadata": {
        "id": "LSvcwilYh27R"
      },
      "source": [
        "def run_optimization(x, y):\n",
        "    with tf.GradientTape() as g:\n",
        "        pred = conv_net(x, is_training=True)\n",
        "        loss = cross_entropy_loss(pred, y)\n",
        "        \n",
        "    trainable_variables = conv_net.trainable_variables\n",
        "    gradients = g.gradient(loss, trainable_variables)\n",
        "    optimizer.apply_gradients(zip(gradients, trainable_variables))\n",
        "\n",
        "    return pred, loss"
      ],
      "execution_count": 61,
      "outputs": []
    },
    {
      "cell_type": "code",
      "metadata": {
        "id": "wNfMWzZgh6CH",
        "colab": {
          "base_uri": "https://localhost:8080/"
        },
        "outputId": "2cc58cac-3abc-4917-aeab-c9044d8cf6e7"
      },
      "source": [
        "for epochs in range(num_epochs):\n",
        "  loss = 0\n",
        "  acc = 0 \n",
        "  print(\"== epoch: \", epochs)\n",
        "  for step, (batch_x, batch_y) in enumerate(train_data.take(600)):\n",
        "      pred, loss = run_optimization(batch_x, batch_y)\n",
        "      loss += cross_entropy_loss(pred, batch_y)\n",
        "      acc += accuracy(pred, batch_y)\n",
        "\n",
        "      if (step+1) % 100 == 0:\n",
        "          print(\"step: %i, loss: %f, accuracy: %f\" % (step, loss, acc/100))\n",
        "          loss = 0\n",
        "          acc = 0\n",
        "  pred = conv_net(x_test)\n",
        "  print(\"Test Accuracy: %f\" % accuracy(pred, y_test))\n",
        "  # print('{:0.4f}s'.format(time.time()-start))"
      ],
      "execution_count": 62,
      "outputs": [
        {
          "output_type": "stream",
          "text": [
            "== epoch:  0\n",
            "step: 99, loss: 2.139677, accuracy: 0.386500\n",
            "step: 199, loss: 0.414675, accuracy: 0.793900\n",
            "step: 299, loss: 0.521064, accuracy: 0.901100\n",
            "step: 399, loss: 0.308534, accuracy: 0.937500\n",
            "step: 499, loss: 0.309473, accuracy: 0.945900\n",
            "step: 599, loss: 0.222200, accuracy: 0.954300\n",
            "Test Accuracy: 0.449500\n",
            "== epoch:  1\n",
            "step: 99, loss: 0.262101, accuracy: 0.958500\n",
            "step: 199, loss: 0.341059, accuracy: 0.965800\n",
            "step: 299, loss: 0.209568, accuracy: 0.965900\n",
            "step: 399, loss: 0.152249, accuracy: 0.968500\n",
            "step: 499, loss: 0.262838, accuracy: 0.971500\n",
            "step: 599, loss: 0.172631, accuracy: 0.972000\n",
            "Test Accuracy: 0.656300\n",
            "== epoch:  2\n",
            "step: 99, loss: 0.118320, accuracy: 0.976500\n",
            "step: 199, loss: 0.330770, accuracy: 0.977300\n",
            "step: 299, loss: 0.055613, accuracy: 0.979200\n",
            "step: 399, loss: 0.105047, accuracy: 0.979800\n",
            "step: 499, loss: 0.072798, accuracy: 0.978400\n",
            "step: 599, loss: 0.046434, accuracy: 0.979300\n",
            "Test Accuracy: 0.789900\n",
            "== epoch:  3\n",
            "step: 99, loss: 0.066084, accuracy: 0.984900\n",
            "step: 199, loss: 0.029127, accuracy: 0.983600\n",
            "step: 299, loss: 0.084018, accuracy: 0.982200\n",
            "step: 399, loss: 0.061105, accuracy: 0.985800\n",
            "step: 499, loss: 0.040463, accuracy: 0.985300\n",
            "step: 599, loss: 0.007756, accuracy: 0.985900\n",
            "Test Accuracy: 0.705300\n",
            "== epoch:  4\n",
            "step: 99, loss: 0.021033, accuracy: 0.986100\n",
            "step: 199, loss: 0.156656, accuracy: 0.987700\n",
            "step: 299, loss: 0.013901, accuracy: 0.989000\n",
            "step: 399, loss: 0.074517, accuracy: 0.988100\n",
            "step: 499, loss: 0.192162, accuracy: 0.989600\n",
            "step: 599, loss: 0.020365, accuracy: 0.989000\n",
            "Test Accuracy: 0.758100\n",
            "== epoch:  5\n",
            "step: 99, loss: 0.134020, accuracy: 0.989300\n",
            "step: 199, loss: 0.130426, accuracy: 0.989000\n",
            "step: 299, loss: 0.022894, accuracy: 0.990300\n",
            "step: 399, loss: 0.019738, accuracy: 0.992200\n",
            "step: 499, loss: 0.167317, accuracy: 0.991300\n",
            "step: 599, loss: 0.016864, accuracy: 0.990300\n",
            "Test Accuracy: 0.738700\n",
            "== epoch:  6\n",
            "step: 99, loss: 0.032370, accuracy: 0.992600\n",
            "step: 199, loss: 0.018725, accuracy: 0.992700\n",
            "step: 299, loss: 0.009232, accuracy: 0.991700\n",
            "step: 399, loss: 0.009649, accuracy: 0.991700\n",
            "step: 499, loss: 0.041183, accuracy: 0.991900\n",
            "step: 599, loss: 0.011328, accuracy: 0.993200\n",
            "Test Accuracy: 0.777000\n",
            "== epoch:  7\n",
            "step: 99, loss: 0.051485, accuracy: 0.994400\n",
            "step: 199, loss: 0.016824, accuracy: 0.993900\n",
            "step: 299, loss: 0.035693, accuracy: 0.993700\n",
            "step: 399, loss: 0.104055, accuracy: 0.995100\n",
            "step: 499, loss: 0.081959, accuracy: 0.992600\n",
            "step: 599, loss: 0.064056, accuracy: 0.991700\n",
            "Test Accuracy: 0.740700\n",
            "== epoch:  8\n",
            "step: 99, loss: 0.007612, accuracy: 0.995000\n",
            "step: 199, loss: 0.007045, accuracy: 0.993600\n",
            "step: 299, loss: 0.009686, accuracy: 0.995800\n",
            "step: 399, loss: 0.217693, accuracy: 0.993800\n",
            "step: 499, loss: 0.072394, accuracy: 0.994400\n",
            "step: 599, loss: 0.003354, accuracy: 0.994800\n",
            "Test Accuracy: 0.765100\n",
            "== epoch:  9\n",
            "step: 99, loss: 0.006439, accuracy: 0.995700\n",
            "step: 199, loss: 0.123232, accuracy: 0.995900\n",
            "step: 299, loss: 0.028061, accuracy: 0.994200\n",
            "step: 399, loss: 0.062539, accuracy: 0.995400\n",
            "step: 499, loss: 0.023796, accuracy: 0.996200\n",
            "step: 599, loss: 0.019620, accuracy: 0.995200\n",
            "Test Accuracy: 0.856900\n",
            "== epoch:  10\n",
            "step: 99, loss: 0.004021, accuracy: 0.996700\n",
            "step: 199, loss: 0.018971, accuracy: 0.995400\n",
            "step: 299, loss: 0.002094, accuracy: 0.997300\n",
            "step: 399, loss: 0.010078, accuracy: 0.994400\n",
            "step: 499, loss: 0.003142, accuracy: 0.995300\n",
            "step: 599, loss: 0.021598, accuracy: 0.994900\n",
            "Test Accuracy: 0.802600\n",
            "== epoch:  11\n",
            "step: 99, loss: 0.008196, accuracy: 0.995300\n",
            "step: 199, loss: 0.035068, accuracy: 0.996800\n",
            "step: 299, loss: 0.001291, accuracy: 0.996400\n",
            "step: 399, loss: 0.001796, accuracy: 0.996300\n",
            "step: 499, loss: 0.005594, accuracy: 0.996900\n",
            "step: 599, loss: 0.013702, accuracy: 0.995800\n",
            "Test Accuracy: 0.803600\n",
            "== epoch:  12\n",
            "step: 99, loss: 0.037443, accuracy: 0.996600\n",
            "step: 199, loss: 0.002582, accuracy: 0.996300\n",
            "step: 299, loss: 0.006928, accuracy: 0.997100\n",
            "step: 399, loss: 0.013931, accuracy: 0.995900\n",
            "step: 499, loss: 0.006852, accuracy: 0.997100\n",
            "step: 599, loss: 0.017423, accuracy: 0.995900\n",
            "Test Accuracy: 0.793400\n",
            "== epoch:  13\n",
            "step: 99, loss: 0.012712, accuracy: 0.996800\n",
            "step: 199, loss: 0.003558, accuracy: 0.995600\n",
            "step: 299, loss: 0.003891, accuracy: 0.998100\n",
            "step: 399, loss: 0.015544, accuracy: 0.997200\n",
            "step: 499, loss: 0.086478, accuracy: 0.997100\n",
            "step: 599, loss: 0.013933, accuracy: 0.996700\n",
            "Test Accuracy: 0.806100\n",
            "== epoch:  14\n",
            "step: 99, loss: 0.001957, accuracy: 0.997900\n",
            "step: 199, loss: 0.001752, accuracy: 0.997700\n",
            "step: 299, loss: 0.027333, accuracy: 0.997100\n",
            "step: 399, loss: 0.002493, accuracy: 0.997500\n",
            "step: 499, loss: 0.078493, accuracy: 0.998600\n",
            "step: 599, loss: 0.004347, accuracy: 0.996900\n",
            "Test Accuracy: 0.794600\n",
            "== epoch:  15\n",
            "step: 99, loss: 0.005198, accuracy: 0.998700\n",
            "step: 199, loss: 0.012572, accuracy: 0.997900\n",
            "step: 299, loss: 0.000269, accuracy: 0.996400\n",
            "step: 399, loss: 0.068858, accuracy: 0.996700\n",
            "step: 499, loss: 0.022925, accuracy: 0.997800\n",
            "step: 599, loss: 0.003258, accuracy: 0.997800\n",
            "Test Accuracy: 0.745100\n",
            "== epoch:  16\n",
            "step: 99, loss: 0.005184, accuracy: 0.998100\n",
            "step: 199, loss: 0.017701, accuracy: 0.998200\n",
            "step: 299, loss: 0.014331, accuracy: 0.996700\n",
            "step: 399, loss: 0.001864, accuracy: 0.997100\n",
            "step: 499, loss: 0.042454, accuracy: 0.997200\n",
            "step: 599, loss: 0.006464, accuracy: 0.996400\n",
            "Test Accuracy: 0.725300\n",
            "== epoch:  17\n",
            "step: 99, loss: 0.000806, accuracy: 0.997400\n",
            "step: 199, loss: 0.038943, accuracy: 0.998100\n",
            "step: 299, loss: 0.008052, accuracy: 0.997800\n",
            "step: 399, loss: 0.005511, accuracy: 0.998100\n",
            "step: 499, loss: 0.000351, accuracy: 0.997800\n",
            "step: 599, loss: 0.005464, accuracy: 0.997400\n",
            "Test Accuracy: 0.711000\n",
            "== epoch:  18\n",
            "step: 99, loss: 0.009890, accuracy: 0.998700\n",
            "step: 199, loss: 0.006488, accuracy: 0.997900\n",
            "step: 299, loss: 0.000115, accuracy: 0.997900\n",
            "step: 399, loss: 0.000286, accuracy: 0.998600\n",
            "step: 499, loss: 0.000207, accuracy: 0.998300\n",
            "step: 599, loss: 0.001321, accuracy: 0.998400\n",
            "Test Accuracy: 0.736700\n",
            "== epoch:  19\n",
            "step: 99, loss: 0.000384, accuracy: 0.997700\n",
            "step: 199, loss: 0.083342, accuracy: 0.998500\n",
            "step: 299, loss: 0.001091, accuracy: 0.997400\n",
            "step: 399, loss: 0.000685, accuracy: 0.998900\n",
            "step: 499, loss: 0.009904, accuracy: 0.998900\n",
            "step: 599, loss: 0.000976, accuracy: 0.999100\n",
            "Test Accuracy: 0.728500\n",
            "== epoch:  20\n",
            "step: 99, loss: 0.000216, accuracy: 0.998100\n",
            "step: 199, loss: 0.000409, accuracy: 0.999000\n",
            "step: 299, loss: 0.021053, accuracy: 0.998500\n",
            "step: 399, loss: 0.001087, accuracy: 0.999200\n",
            "step: 499, loss: 0.007621, accuracy: 0.998700\n",
            "step: 599, loss: 0.000799, accuracy: 0.997700\n",
            "Test Accuracy: 0.724500\n",
            "== epoch:  21\n",
            "step: 99, loss: 0.000055, accuracy: 0.998000\n",
            "step: 199, loss: 0.000359, accuracy: 0.998200\n",
            "step: 299, loss: 0.007359, accuracy: 0.997900\n",
            "step: 399, loss: 0.000872, accuracy: 0.998100\n",
            "step: 499, loss: 0.000173, accuracy: 0.998100\n",
            "step: 599, loss: 0.004507, accuracy: 0.997600\n",
            "Test Accuracy: 0.737400\n",
            "== epoch:  22\n",
            "step: 99, loss: 0.015183, accuracy: 0.997700\n",
            "step: 199, loss: 0.001229, accuracy: 0.998000\n",
            "step: 299, loss: 0.006554, accuracy: 0.998400\n",
            "step: 399, loss: 0.001154, accuracy: 0.997800\n",
            "step: 499, loss: 0.021365, accuracy: 0.998500\n",
            "step: 599, loss: 0.000698, accuracy: 0.999100\n",
            "Test Accuracy: 0.849300\n",
            "== epoch:  23\n",
            "step: 99, loss: 0.017574, accuracy: 0.998800\n",
            "step: 199, loss: 0.000389, accuracy: 0.998800\n",
            "step: 299, loss: 0.004302, accuracy: 0.998900\n",
            "step: 399, loss: 0.001118, accuracy: 0.999000\n",
            "step: 499, loss: 0.000536, accuracy: 0.997700\n",
            "step: 599, loss: 0.045360, accuracy: 0.997800\n",
            "Test Accuracy: 0.671300\n",
            "== epoch:  24\n",
            "step: 99, loss: 0.000083, accuracy: 0.997900\n",
            "step: 199, loss: 0.010389, accuracy: 0.997700\n",
            "step: 299, loss: 0.000322, accuracy: 0.997800\n",
            "step: 399, loss: 0.000180, accuracy: 0.998600\n",
            "step: 499, loss: 0.047796, accuracy: 0.999300\n",
            "step: 599, loss: 0.000199, accuracy: 0.998100\n",
            "Test Accuracy: 0.704000\n",
            "== epoch:  25\n",
            "step: 99, loss: 0.000041, accuracy: 0.999200\n",
            "step: 199, loss: 0.001276, accuracy: 0.998900\n",
            "step: 299, loss: 0.005457, accuracy: 0.999100\n",
            "step: 399, loss: 0.000599, accuracy: 0.998800\n",
            "step: 499, loss: 0.058358, accuracy: 0.998300\n",
            "step: 599, loss: 0.031423, accuracy: 0.997500\n",
            "Test Accuracy: 0.770700\n",
            "== epoch:  26\n",
            "step: 99, loss: 0.002489, accuracy: 0.997500\n",
            "step: 199, loss: 0.000180, accuracy: 0.998200\n",
            "step: 299, loss: 0.000759, accuracy: 0.999300\n",
            "step: 399, loss: 0.000447, accuracy: 0.998900\n",
            "step: 499, loss: 0.007676, accuracy: 0.998600\n",
            "step: 599, loss: 0.060298, accuracy: 0.997900\n",
            "Test Accuracy: 0.778000\n",
            "== epoch:  27\n",
            "step: 99, loss: 0.014303, accuracy: 0.998900\n",
            "step: 199, loss: 0.000092, accuracy: 0.998400\n",
            "step: 299, loss: 0.001422, accuracy: 0.998300\n",
            "step: 399, loss: 0.000126, accuracy: 0.997900\n",
            "step: 499, loss: 0.010680, accuracy: 0.998000\n",
            "step: 599, loss: 0.016949, accuracy: 0.998500\n",
            "Test Accuracy: 0.810700\n",
            "== epoch:  28\n",
            "step: 99, loss: 0.005002, accuracy: 0.998400\n",
            "step: 199, loss: 0.000634, accuracy: 0.998300\n",
            "step: 299, loss: 0.006421, accuracy: 0.999000\n",
            "step: 399, loss: 0.000090, accuracy: 0.999200\n",
            "step: 499, loss: 0.008090, accuracy: 0.998700\n",
            "step: 599, loss: 0.000628, accuracy: 0.999100\n",
            "Test Accuracy: 0.834500\n",
            "== epoch:  29\n",
            "step: 99, loss: 0.000401, accuracy: 0.998800\n",
            "step: 199, loss: 0.000104, accuracy: 0.998900\n",
            "step: 299, loss: 0.001423, accuracy: 0.999100\n",
            "step: 399, loss: 0.000209, accuracy: 0.999500\n",
            "step: 499, loss: 0.004513, accuracy: 0.998600\n",
            "step: 599, loss: 0.000134, accuracy: 0.998900\n",
            "Test Accuracy: 0.879600\n"
          ],
          "name": "stdout"
        }
      ]
    },
    {
      "cell_type": "code",
      "metadata": {
        "id": "jmgGGod6iDf8",
        "colab": {
          "base_uri": "https://localhost:8080/",
          "height": 1000
        },
        "outputId": "d7af13a6-1179-4b56-fe8a-970bf4b46f8a"
      },
      "source": [
        "import matplotlib.pyplot as plt\n",
        "\n",
        "n_images = 5\n",
        "test_images = x_test[:n_images]\n",
        "predictions = conv_net(test_images)\n",
        "\n",
        "for i in range(n_images):\n",
        "    plt.imshow(np.reshape(test_images[i], [28, 28]), cmap='gray')\n",
        "    plt.show()\n",
        "    print(\"Model prediction: %i\" % np.argmax(predictions.numpy()[i]))"
      ],
      "execution_count": 63,
      "outputs": [
        {
          "output_type": "display_data",
          "data": {
            "image/png": "[encoded data removed]",
            "text/plain": [
              "<Figure size 432x288 with 1 Axes>"
            ]
          },
          "metadata": {
            "tags": [],
            "needs_background": "light"
          }
        },
        {
          "output_type": "stream",
          "text": [
            "Model prediction: 7\n"
          ],
          "name": "stdout"
        },
        {
          "output_type": "display_data",
          "data": {
            "image/png": "[encoded data removed]",
            "text/plain": [
              "<Figure size 432x288 with 1 Axes>"
            ]
          },
          "metadata": {
            "tags": [],
            "needs_background": "light"
          }
        },
        {
          "output_type": "stream",
          "text": [
            "Model prediction: 2\n"
          ],
          "name": "stdout"
        },
        {
          "output_type": "display_data",
          "data": {
            "image/png": "[encoded data removed]",
            "text/plain": [
              "<Figure size 432x288 with 1 Axes>"
            ]
          },
          "metadata": {
            "tags": [],
            "needs_background": "light"
          }
        },
        {
          "output_type": "stream",
          "text": [
            "Model prediction: 1\n"
          ],
          "name": "stdout"
        },
        {
          "output_type": "display_data",
          "data": {
            "image/png": "[encoded data removed]",
            "text/plain": [
              "<Figure size 432x288 with 1 Axes>"
            ]
          },
          "metadata": {
            "tags": [],
            "needs_background": "light"
          }
        },
        {
          "output_type": "stream",
          "text": [
            "Model prediction: 0\n"
          ],
          "name": "stdout"
        },
        {
          "output_type": "display_data",
          "data": {
            "image/png": "[encoded data removed]",
            "text/plain": [
              "<Figure size 432x288 with 1 Axes>"
            ]
          },
          "metadata": {
            "tags": [],
            "needs_background": "light"
          }
        },
        {
          "output_type": "stream",
          "text": [
            "Model prediction: 4\n"
          ],
          "name": "stdout"
        }
      ]
    }
  ]
}